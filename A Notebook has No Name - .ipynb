{
 "cells": [
  {
   "cell_type": "code",
   "execution_count": 14,
   "metadata": {},
   "outputs": [],
   "source": []
  },
  {
   "cell_type": "code",
   "execution_count": 12,
   "metadata": {},
   "outputs": [
    {
     "name": "stdout",
     "output_type": "stream",
     "text": [
      "noLogo\n",
      "noLogo\n",
      "noLogo\n",
      "noLogo\n",
      "noLogo\n",
      "noLogo\n",
      "noLogo\n",
      "noLogo\n",
      "noLogo\n"
     ]
    }
   ],
   "source": [
    "with open('/Users/bussonniermatthias/dev/jupyter.github.io/_data/ecosystem.yml') as f:\n",
    "    x = yaml.load(f.read())\n",
    "\n",
    "for k,v in x.items():\n",
    "    for vv in v['items']:\n",
    "        #print(vv)\n",
    "        name = vv['name']\n",
    "        logo = vv.get('logo')\n",
    "\n",
    "        !mkdir -p \"public/ecosystem/{name}\"\n",
    "        if logo:\n",
    "            ext = logo[-4:]\n",
    "            !cp /Users/bussonniermatthias/dev/jupyter.github.io/assets/ecosystem/{logo} \"public/ecosystem/{name}/logo{ext}\"\n",
    "        else:\n",
    "            print('noLogo')\n",
    "        with open(f'public/ecosystem/{name}/data.yaml','w') as f:\n",
    "            vv.pop('logo', None)\n",
    "            f.write(yaml.dump(vv,default_flow_style=False))\n",
    "        "
   ]
  },
  {
   "cell_type": "code",
   "execution_count": null,
   "metadata": {},
   "outputs": [],
   "source": []
  }
 ],
 "metadata": {
  "kernelspec": {
   "display_name": "Python 3",
   "language": "python",
   "name": "python3"
  },
  "language_info": {
   "codemirror_mode": {
    "name": "ipython",
    "version": 3
   },
   "file_extension": ".py",
   "mimetype": "text/x-python",
   "name": "python",
   "nbconvert_exporter": "python",
   "pygments_lexer": "ipython3",
   "version": "3.6.3"
  }
 },
 "nbformat": 4,
 "nbformat_minor": 2
}
